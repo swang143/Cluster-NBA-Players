{
 "cells": [
  {
   "cell_type": "code",
   "execution_count": 12,
   "metadata": {
    "collapsed": false
   },
   "outputs": [
    {
     "data": {
      "text/html": [
       "<div>\n",
       "<table border=\"1\" class=\"dataframe\">\n",
       "  <thead>\n",
       "    <tr style=\"text-align: right;\">\n",
       "      <th></th>\n",
       "      <th>Rk</th>\n",
       "      <th>Player</th>\n",
       "      <th>Pos</th>\n",
       "      <th>Age</th>\n",
       "      <th>Tm</th>\n",
       "      <th>G</th>\n",
       "      <th>GS</th>\n",
       "      <th>MP</th>\n",
       "      <th>FG</th>\n",
       "      <th>FGA</th>\n",
       "      <th>...</th>\n",
       "      <th>FT%</th>\n",
       "      <th>ORB</th>\n",
       "      <th>DRB</th>\n",
       "      <th>TRB</th>\n",
       "      <th>AST</th>\n",
       "      <th>STL</th>\n",
       "      <th>BLK</th>\n",
       "      <th>TOV</th>\n",
       "      <th>PF</th>\n",
       "      <th>PTS</th>\n",
       "    </tr>\n",
       "  </thead>\n",
       "  <tbody>\n",
       "    <tr>\n",
       "      <th>0</th>\n",
       "      <td>1</td>\n",
       "      <td>Quincy Acy</td>\n",
       "      <td>SF</td>\n",
       "      <td>23</td>\n",
       "      <td>TOT</td>\n",
       "      <td>63</td>\n",
       "      <td>0</td>\n",
       "      <td>13.4</td>\n",
       "      <td>1.0</td>\n",
       "      <td>2.2</td>\n",
       "      <td>...</td>\n",
       "      <td>.660</td>\n",
       "      <td>1.1</td>\n",
       "      <td>2.3</td>\n",
       "      <td>3.4</td>\n",
       "      <td>0.4</td>\n",
       "      <td>0.4</td>\n",
       "      <td>0.4</td>\n",
       "      <td>0.5</td>\n",
       "      <td>1.9</td>\n",
       "      <td>2.7</td>\n",
       "    </tr>\n",
       "    <tr>\n",
       "      <th>1</th>\n",
       "      <td>1</td>\n",
       "      <td>Quincy Acy</td>\n",
       "      <td>SF</td>\n",
       "      <td>23</td>\n",
       "      <td>TOR</td>\n",
       "      <td>7</td>\n",
       "      <td>0</td>\n",
       "      <td>8.7</td>\n",
       "      <td>0.9</td>\n",
       "      <td>2.0</td>\n",
       "      <td>...</td>\n",
       "      <td>.625</td>\n",
       "      <td>0.7</td>\n",
       "      <td>1.4</td>\n",
       "      <td>2.1</td>\n",
       "      <td>0.6</td>\n",
       "      <td>0.6</td>\n",
       "      <td>0.4</td>\n",
       "      <td>0.3</td>\n",
       "      <td>1.1</td>\n",
       "      <td>2.7</td>\n",
       "    </tr>\n",
       "    <tr>\n",
       "      <th>2</th>\n",
       "      <td>1</td>\n",
       "      <td>Quincy Acy</td>\n",
       "      <td>SF</td>\n",
       "      <td>23</td>\n",
       "      <td>SAC</td>\n",
       "      <td>56</td>\n",
       "      <td>0</td>\n",
       "      <td>14.0</td>\n",
       "      <td>1.1</td>\n",
       "      <td>2.3</td>\n",
       "      <td>...</td>\n",
       "      <td>.667</td>\n",
       "      <td>1.2</td>\n",
       "      <td>2.4</td>\n",
       "      <td>3.6</td>\n",
       "      <td>0.4</td>\n",
       "      <td>0.3</td>\n",
       "      <td>0.4</td>\n",
       "      <td>0.5</td>\n",
       "      <td>2.0</td>\n",
       "      <td>2.7</td>\n",
       "    </tr>\n",
       "    <tr>\n",
       "      <th>3</th>\n",
       "      <td>2</td>\n",
       "      <td>Steven Adams</td>\n",
       "      <td>C</td>\n",
       "      <td>20</td>\n",
       "      <td>OKC</td>\n",
       "      <td>81</td>\n",
       "      <td>20</td>\n",
       "      <td>14.8</td>\n",
       "      <td>1.1</td>\n",
       "      <td>2.3</td>\n",
       "      <td>...</td>\n",
       "      <td>.581</td>\n",
       "      <td>1.8</td>\n",
       "      <td>2.3</td>\n",
       "      <td>4.1</td>\n",
       "      <td>0.5</td>\n",
       "      <td>0.5</td>\n",
       "      <td>0.7</td>\n",
       "      <td>0.9</td>\n",
       "      <td>2.5</td>\n",
       "      <td>3.3</td>\n",
       "    </tr>\n",
       "    <tr>\n",
       "      <th>4</th>\n",
       "      <td>3</td>\n",
       "      <td>Jeff Adrien</td>\n",
       "      <td>PF</td>\n",
       "      <td>27</td>\n",
       "      <td>TOT</td>\n",
       "      <td>53</td>\n",
       "      <td>12</td>\n",
       "      <td>18.1</td>\n",
       "      <td>2.7</td>\n",
       "      <td>5.2</td>\n",
       "      <td>...</td>\n",
       "      <td>.639</td>\n",
       "      <td>1.9</td>\n",
       "      <td>3.8</td>\n",
       "      <td>5.8</td>\n",
       "      <td>0.7</td>\n",
       "      <td>0.5</td>\n",
       "      <td>0.7</td>\n",
       "      <td>0.7</td>\n",
       "      <td>2.0</td>\n",
       "      <td>6.8</td>\n",
       "    </tr>\n",
       "  </tbody>\n",
       "</table>\n",
       "<p>5 rows × 30 columns</p>\n",
       "</div>"
      ],
      "text/plain": [
       "  Rk        Player Pos Age   Tm   G  GS    MP   FG  FGA ...    FT%  ORB  DRB  \\\n",
       "0  1    Quincy Acy  SF  23  TOT  63   0  13.4  1.0  2.2 ...   .660  1.1  2.3   \n",
       "1  1    Quincy Acy  SF  23  TOR   7   0   8.7  0.9  2.0 ...   .625  0.7  1.4   \n",
       "2  1    Quincy Acy  SF  23  SAC  56   0  14.0  1.1  2.3 ...   .667  1.2  2.4   \n",
       "3  2  Steven Adams   C  20  OKC  81  20  14.8  1.1  2.3 ...   .581  1.8  2.3   \n",
       "4  3   Jeff Adrien  PF  27  TOT  53  12  18.1  2.7  5.2 ...   .639  1.9  3.8   \n",
       "\n",
       "   TRB  AST  STL  BLK  TOV   PF  PTS  \n",
       "0  3.4  0.4  0.4  0.4  0.5  1.9  2.7  \n",
       "1  2.1  0.6  0.6  0.4  0.3  1.1  2.7  \n",
       "2  3.6  0.4  0.3  0.4  0.5  2.0  2.7  \n",
       "3  4.1  0.5  0.5  0.7  0.9  2.5  3.3  \n",
       "4  5.8  0.7  0.5  0.7  0.7  2.0  6.8  \n",
       "\n",
       "[5 rows x 30 columns]"
      ]
     },
     "execution_count": 12,
     "metadata": {},
     "output_type": "execute_result"
    }
   ],
   "source": [
    "import pandas as pd\n",
    "import numpy as np\n",
    "nba = pd.read_csv(\"nba_players.csv\")\n",
    "nba.head()"
   ]
  },
  {
   "cell_type": "markdown",
   "metadata": {},
   "source": [
    "Now we have a grasp of what our data look like. Next let's extract out information of point guards from the data set. Point guards are specified as PG in the position(POS) column. \n",
    "\n",
    "We also want points per game and assist turnover ration for each player. While our dataset doesn't come with Assist Turnover Ratio, we can easily calculate those using each player's assists per game(AST) and the turnovers per game(TOV) if we divide the AST column and TOV column. Let's create a new column called atr which represents Assist Turnover Ratio to store the ratios.\n",
    "\n",
    "A notice here is that we need to drop the players who have 0 turnovers. Not only did these players only play a few games, making it hard to understand their true abilities, but we also cannot divide by 0 when we calculate atr. Another thing to pay attention to is AST and TOV columns are string type, we may want to convert to numeric type first.  "
   ]
  },
  {
   "cell_type": "code",
   "execution_count": 13,
   "metadata": {
    "collapsed": false
   },
   "outputs": [
    {
     "name": "stderr",
     "output_type": "stream",
     "text": [
      "/Users/Suyang/anaconda/lib/python3.5/site-packages/pandas/core/generic.py:2387: SettingWithCopyWarning: \n",
      "A value is trying to be set on a copy of a slice from a DataFrame.\n",
      "Try using .loc[row_indexer,col_indexer] = value instead\n",
      "\n",
      "See the caveats in the documentation: http://pandas.pydata.org/pandas-docs/stable/indexing.html#indexing-view-versus-copy\n",
      "  self[name] = value\n"
     ]
    },
    {
     "data": {
      "text/html": [
       "<div>\n",
       "<table border=\"1\" class=\"dataframe\">\n",
       "  <thead>\n",
       "    <tr style=\"text-align: right;\">\n",
       "      <th></th>\n",
       "      <th>PTS</th>\n",
       "      <th>atr</th>\n",
       "    </tr>\n",
       "  </thead>\n",
       "  <tbody>\n",
       "    <tr>\n",
       "      <th>35</th>\n",
       "      <td>13.1</td>\n",
       "      <td>2.444444</td>\n",
       "    </tr>\n",
       "    <tr>\n",
       "      <th>36</th>\n",
       "      <td>2.1</td>\n",
       "      <td>1.111111</td>\n",
       "    </tr>\n",
       "    <tr>\n",
       "      <th>37</th>\n",
       "      <td>14.9</td>\n",
       "      <td>2.631579</td>\n",
       "    </tr>\n",
       "    <tr>\n",
       "      <th>42</th>\n",
       "      <td>7.5</td>\n",
       "      <td>1.600000</td>\n",
       "    </tr>\n",
       "    <tr>\n",
       "      <th>43</th>\n",
       "      <td>8.4</td>\n",
       "      <td>2.375000</td>\n",
       "    </tr>\n",
       "  </tbody>\n",
       "</table>\n",
       "</div>"
      ],
      "text/plain": [
       "     PTS       atr\n",
       "35  13.1  2.444444\n",
       "36   2.1  1.111111\n",
       "37  14.9  2.631579\n",
       "42   7.5  1.600000\n",
       "43   8.4  2.375000"
      ]
     },
     "execution_count": 13,
     "metadata": {},
     "output_type": "execute_result"
    }
   ],
   "source": [
    "point_guards = nba[nba['Pos'] == 'PG']\n",
    "\n",
    "point_guards.AST = point_guards.AST.astype(float)\n",
    "point_guards.TOV = point_guards.TOV.astype(float)\n",
    "point_guards.PTS = point_guards.PTS.astype(float)\n",
    "\n",
    "point_guards = point_guards[point_guards['TOV'] != 0]\n",
    "point_guards['atr'] = point_guards['AST'] / point_guards['TOV']\n",
    "\n",
    "point_guards[['PTS','atr']].head()"
   ]
  },
  {
   "cell_type": "markdown",
   "metadata": {},
   "source": [
    "In the next step, we are going to visualize the point guards. We will use matplotlib to create a scatter plot with Points Per Game (PTS) on the X axis and Assist Turnover Ratio (atr) on the Y axis."
   ]
  },
  {
   "cell_type": "code",
   "execution_count": 14,
   "metadata": {
    "collapsed": false
   },
   "outputs": [
    {
     "data": {
      "text/plain": [
       "<matplotlib.text.Text at 0x108d42898>"
      ]
     },
     "execution_count": 14,
     "metadata": {},
     "output_type": "execute_result"
    },
    {
     "data": {
      "image/png": "[encoded data removed]",
      "text/plain": [
       "<matplotlib.figure.Figure at 0x108708710>"
      ]
     },
     "metadata": {},
     "output_type": "display_data"
    }
   ],
   "source": [
    "%matplotlib inline\n",
    "\n",
    "import matplotlib\n",
    "import matplotlib.pyplot as plt\n",
    "\n",
    "plt.scatter(point_guards['PTS'], point_guards['atr'], c='r')\n",
    "plt.title('Point Guards')\n",
    "plt.xlabel('Points Per Game', fontsize=13)\n",
    "plt.ylabel('Assist Turnover Ratio', fontsize=13)"
   ]
  },
  {
   "cell_type": "markdown",
   "metadata": {},
   "source": [
    "It may be hard to tell how many regions or clusters that the point guards fall into at first glance(with a few outliers of course!). We can use a technique called clustering to segment all of the point guards into groups of alike players. We know that supervised machine learning techniques work well when we have a clear metric we want to optimize for and lots of pre-labelled data, here, we need to instead use unsupervised machine learning techniques to explore the structure within a data set that doesn't have a clear value to optimize.\n",
    "\n",
    "There are multiple ways of clustering data but here we will focus on centroid based clustering. Centroid based clustering works well when the clusters resemble circles with centers (or centroids). The centroid represent the arithmetic mean of all of the data points in that cluster.\n",
    "\n",
    "K-Means Clustering is a popular centroid-based clustering algorithm that we will use. The K in K-Means refers to the number of clusters we want to segment our data into. The key part with K-Means (and most unsupervised machine learning techniques) is that we have to specify what k is. There are advantages and disadvantages to this, but one advantage is that we can pick the k that makes the most sense for our use case. We'll set k to 5 since we want K-Means to segment our data into 5 clusters."
   ]
  },
  {
   "cell_type": "markdown",
   "metadata": {},
   "source": [
    "Setup K-Means is an iterative algorithm that switches between recalculating the centroid of each cluster and the players that belong to that cluster. To start, select 5 players at random and assign their coordinates as the initial centroids of the just created clusters.\n",
    "\n",
    "Step 1 (Assign Points to Clusters) For each player, calculate the Euclidean distance between that player's coordinates, or values for atr & pts, and each of the centroids' coordinates. Assign the player to the cluster whose centroid is the closest to, or has the lowest Euclidean distance to, the player's values.\n",
    "\n",
    "Step 2 (Update New Centroids of the Clusters) For each cluster, compute the new centroid by calculating the arithmetic mean of all of the points (players) in that cluster. We calculate the arithmetic mean by taking the average of all of the X values (atr) and the average of all of the Y values (pts) of the points in that cluster.\n",
    "\n",
    "Iterate Repeat steps 1 & 2 until the clusters are no longer moving and have converged."
   ]
  },
  {
   "cell_type": "code",
   "execution_count": 17,
   "metadata": {
    "collapsed": false
   },
   "outputs": [
    {
     "name": "stdout",
     "output_type": "stream",
     "text": [
      "[613 288 382 570  69]\n",
      "      Rk          Player Pos Age   Tm   G  GS    MP   FG   FGA    ...     ORB  \\\n",
      "613  464  Deron Williams  PG  29  BRK  64  58  32.2  5.0  11.2    ...     0.2   \n",
      "288  209    Jrue Holiday  PG  23  NOP  34  34  33.6  6.0  13.4    ...     0.8   \n",
      "382  291     Eric Maynor  PG  26  TOT  31   0  10.5  1.0   3.3    ...     0.3   \n",
      "570  433  Jamaal Tinsley  PG  35  UTA   8   5  13.8  0.5   2.5    ...     0.3   \n",
      "69    51     Steve Blake  PG  33  LAL  27  27  33.0  3.3   8.6    ...     0.3   \n",
      "\n",
      "     DRB  TRB  AST  STL  BLK  TOV   PF   PTS       atr  \n",
      "613  2.4  2.6  6.1  1.5  0.2  2.2  2.3  14.3  2.772727  \n",
      "288  3.4  4.2  7.9  1.6  0.4  3.1  2.7  14.3  2.548387  \n",
      "382  1.0  1.3  1.7  0.3  0.1  0.9  0.5   2.6  1.888889  \n",
      "570  1.1  1.4  2.9  0.3  0.0  1.1  1.3   1.1  2.636364  \n",
      "69   3.5  3.8  7.6  1.3  0.1  2.6  1.8   9.5  2.923077  \n",
      "\n",
      "[5 rows x 31 columns]\n"
     ]
    }
   ],
   "source": [
    "# Create the centroids\n",
    "num_clusters = 5\n",
    "random_initial_points = np.random.choice(point_guards.index, size=num_clusters)\n",
    "centroids = point_guards.ix[random_initial_points]\n",
    "# Use numpy's random function to generate a list of indices, length: num_clusters\n",
    "# Use the random indices to create the centroids(A new dataframe)\n",
    "\n",
    "print(random_initial_points)\n",
    "print(centroids)"
   ]
  },
  {
   "cell_type": "markdown",
   "metadata": {},
   "source": [
    "Visualize Centroids\n",
    "Let's plot the centroids, in addition to the point_guards, so we can see where the randomly chosen centroids started out."
   ]
  },
  {
   "cell_type": "code",
   "execution_count": 26,
   "metadata": {
    "collapsed": false
   },
   "outputs": [
    {
     "data": {
      "text/plain": [
       "<matplotlib.text.Text at 0x10858f518>"
      ]
     },
     "execution_count": 26,
     "metadata": {},
     "output_type": "execute_result"
    },
    {
     "data": {
      "image/png": "[encoded data removed]",
      "text/plain": [
       "<matplotlib.figure.Figure at 0x108616630>"
      ]
     },
     "metadata": {},
     "output_type": "display_data"
    }
   ],
   "source": [
    "%matplotlib inline\n",
    "\n",
    "plt.scatter(point_guards['PTS'], point_guards['atr'], c='yellow')\n",
    "plt.scatter(centroids['PTS'], centroids['atr'], c='black')\n",
    "plt.title(\"Centroids\")\n",
    "plt.xlabel('Points Per Game', fontsize=13)\n",
    "plt.ylabel('Assist Turnover Ratio', fontsize=13)"
   ]
  },
  {
   "cell_type": "markdown",
   "metadata": {},
   "source": [
    "Before we can assign players to clusters, we need a way to compare the pts and atr values of the players with each cluster's centroids. Euclidean distance is the most common technique used in data science for measuring distance between vectors and works extremely well in 2 and 3 dimensions. \n",
    "\n",
    "Let's create the function calculate_distance, which takes in 2 lists (the player's values for pts and atr and the centroid's values for pts and atr)."
   ]
  },
  {
   "cell_type": "code",
   "execution_count": null,
   "metadata": {
    "collapsed": true
   },
   "outputs": [],
   "source": [
    "# Step 1 - Assign points to cluster\n",
    "# Step 1.1 - Create a function which can calculate distance of two points\n",
    "import math\n",
    "\n",
    "def calculate_distance(centroids, player_values):\n",
    "    square_distance = 0\n",
    "    for x in len(centroids):\n",
    "        square_distance += (centroids[x] - player_values[x]) ** 2\n",
    "    return math.sqrt(square_distance)"
   ]
  },
  {
   "cell_type": "markdown",
   "metadata": {},
   "source": [
    "Since we know how to calculate the distance between each player and the centroids, now we need a way to assign data points to clusters based on Euclidean distance. In order to house the clusters, let's keep things simple and just add a column to the point_guards data frame that contains the cluster_id of the cluster it belongs to.\n",
    "\n",
    "Let's create a function that can be applied to every row in the data set (using the apply function in pandas). For each player, we want to calculate the distances to each cluster's centroid using euclidean_distance. Once we know the distances, we can determine which centroid is the closest (has the lowest distance) and return that centroid's cluster_id.\n",
    "\n",
    "And then we'll create a new column, cluster, that contains the row-wise results of assign_to_cluster."
   ]
  },
  {
   "cell_type": "code",
   "execution_count": null,
   "metadata": {
    "collapsed": true
   },
   "outputs": [],
   "source": []
  }
 ],
 "metadata": {
  "kernelspec": {
   "display_name": "Python 3",
   "language": "python",
   "name": "python3"
  },
  "language_info": {
   "codemirror_mode": {
    "name": "ipython",
    "version": 3
   },
   "file_extension": ".py",
   "mimetype": "text/x-python",
   "name": "python",
   "nbconvert_exporter": "python",
   "pygments_lexer": "ipython3",
   "version": "3.5.1"
  }
 },
 "nbformat": 4,
 "nbformat_minor": 0
}
