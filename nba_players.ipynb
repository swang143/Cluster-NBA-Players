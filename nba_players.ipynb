{
 "cells": [
  {
   "cell_type": "code",
   "execution_count": 124,
   "metadata": {
    "collapsed": false
   },
   "outputs": [
    {
     "data": {
      "text/html": [
       "<div>\n",
       "<table border=\"1\" class=\"dataframe\">\n",
       "  <thead>\n",
       "    <tr style=\"text-align: right;\">\n",
       "      <th></th>\n",
       "      <th>Rk</th>\n",
       "      <th>Player</th>\n",
       "      <th>Pos</th>\n",
       "      <th>Age</th>\n",
       "      <th>Tm</th>\n",
       "      <th>G</th>\n",
       "      <th>GS</th>\n",
       "      <th>MP</th>\n",
       "      <th>FG</th>\n",
       "      <th>FGA</th>\n",
       "      <th>...</th>\n",
       "      <th>FT%</th>\n",
       "      <th>ORB</th>\n",
       "      <th>DRB</th>\n",
       "      <th>TRB</th>\n",
       "      <th>AST</th>\n",
       "      <th>STL</th>\n",
       "      <th>BLK</th>\n",
       "      <th>TOV</th>\n",
       "      <th>PF</th>\n",
       "      <th>PTS</th>\n",
       "    </tr>\n",
       "  </thead>\n",
       "  <tbody>\n",
       "    <tr>\n",
       "      <th>0</th>\n",
       "      <td>1</td>\n",
       "      <td>Quincy Acy</td>\n",
       "      <td>SF</td>\n",
       "      <td>23</td>\n",
       "      <td>TOT</td>\n",
       "      <td>63</td>\n",
       "      <td>0</td>\n",
       "      <td>13.4</td>\n",
       "      <td>1.0</td>\n",
       "      <td>2.2</td>\n",
       "      <td>...</td>\n",
       "      <td>.660</td>\n",
       "      <td>1.1</td>\n",
       "      <td>2.3</td>\n",
       "      <td>3.4</td>\n",
       "      <td>0.4</td>\n",
       "      <td>0.4</td>\n",
       "      <td>0.4</td>\n",
       "      <td>0.5</td>\n",
       "      <td>1.9</td>\n",
       "      <td>2.7</td>\n",
       "    </tr>\n",
       "    <tr>\n",
       "      <th>1</th>\n",
       "      <td>1</td>\n",
       "      <td>Quincy Acy</td>\n",
       "      <td>SF</td>\n",
       "      <td>23</td>\n",
       "      <td>TOR</td>\n",
       "      <td>7</td>\n",
       "      <td>0</td>\n",
       "      <td>8.7</td>\n",
       "      <td>0.9</td>\n",
       "      <td>2.0</td>\n",
       "      <td>...</td>\n",
       "      <td>.625</td>\n",
       "      <td>0.7</td>\n",
       "      <td>1.4</td>\n",
       "      <td>2.1</td>\n",
       "      <td>0.6</td>\n",
       "      <td>0.6</td>\n",
       "      <td>0.4</td>\n",
       "      <td>0.3</td>\n",
       "      <td>1.1</td>\n",
       "      <td>2.7</td>\n",
       "    </tr>\n",
       "    <tr>\n",
       "      <th>2</th>\n",
       "      <td>1</td>\n",
       "      <td>Quincy Acy</td>\n",
       "      <td>SF</td>\n",
       "      <td>23</td>\n",
       "      <td>SAC</td>\n",
       "      <td>56</td>\n",
       "      <td>0</td>\n",
       "      <td>14.0</td>\n",
       "      <td>1.1</td>\n",
       "      <td>2.3</td>\n",
       "      <td>...</td>\n",
       "      <td>.667</td>\n",
       "      <td>1.2</td>\n",
       "      <td>2.4</td>\n",
       "      <td>3.6</td>\n",
       "      <td>0.4</td>\n",
       "      <td>0.3</td>\n",
       "      <td>0.4</td>\n",
       "      <td>0.5</td>\n",
       "      <td>2.0</td>\n",
       "      <td>2.7</td>\n",
       "    </tr>\n",
       "    <tr>\n",
       "      <th>3</th>\n",
       "      <td>2</td>\n",
       "      <td>Steven Adams</td>\n",
       "      <td>C</td>\n",
       "      <td>20</td>\n",
       "      <td>OKC</td>\n",
       "      <td>81</td>\n",
       "      <td>20</td>\n",
       "      <td>14.8</td>\n",
       "      <td>1.1</td>\n",
       "      <td>2.3</td>\n",
       "      <td>...</td>\n",
       "      <td>.581</td>\n",
       "      <td>1.8</td>\n",
       "      <td>2.3</td>\n",
       "      <td>4.1</td>\n",
       "      <td>0.5</td>\n",
       "      <td>0.5</td>\n",
       "      <td>0.7</td>\n",
       "      <td>0.9</td>\n",
       "      <td>2.5</td>\n",
       "      <td>3.3</td>\n",
       "    </tr>\n",
       "    <tr>\n",
       "      <th>4</th>\n",
       "      <td>3</td>\n",
       "      <td>Jeff Adrien</td>\n",
       "      <td>PF</td>\n",
       "      <td>27</td>\n",
       "      <td>TOT</td>\n",
       "      <td>53</td>\n",
       "      <td>12</td>\n",
       "      <td>18.1</td>\n",
       "      <td>2.7</td>\n",
       "      <td>5.2</td>\n",
       "      <td>...</td>\n",
       "      <td>.639</td>\n",
       "      <td>1.9</td>\n",
       "      <td>3.8</td>\n",
       "      <td>5.8</td>\n",
       "      <td>0.7</td>\n",
       "      <td>0.5</td>\n",
       "      <td>0.7</td>\n",
       "      <td>0.7</td>\n",
       "      <td>2.0</td>\n",
       "      <td>6.8</td>\n",
       "    </tr>\n",
       "  </tbody>\n",
       "</table>\n",
       "<p>5 rows × 30 columns</p>\n",
       "</div>"
      ],
      "text/plain": [
       "  Rk        Player Pos Age   Tm   G  GS    MP   FG  FGA ...    FT%  ORB  DRB  \\\n",
       "0  1    Quincy Acy  SF  23  TOT  63   0  13.4  1.0  2.2 ...   .660  1.1  2.3   \n",
       "1  1    Quincy Acy  SF  23  TOR   7   0   8.7  0.9  2.0 ...   .625  0.7  1.4   \n",
       "2  1    Quincy Acy  SF  23  SAC  56   0  14.0  1.1  2.3 ...   .667  1.2  2.4   \n",
       "3  2  Steven Adams   C  20  OKC  81  20  14.8  1.1  2.3 ...   .581  1.8  2.3   \n",
       "4  3   Jeff Adrien  PF  27  TOT  53  12  18.1  2.7  5.2 ...   .639  1.9  3.8   \n",
       "\n",
       "   TRB  AST  STL  BLK  TOV   PF  PTS  \n",
       "0  3.4  0.4  0.4  0.4  0.5  1.9  2.7  \n",
       "1  2.1  0.6  0.6  0.4  0.3  1.1  2.7  \n",
       "2  3.6  0.4  0.3  0.4  0.5  2.0  2.7  \n",
       "3  4.1  0.5  0.5  0.7  0.9  2.5  3.3  \n",
       "4  5.8  0.7  0.5  0.7  0.7  2.0  6.8  \n",
       "\n",
       "[5 rows x 30 columns]"
      ]
     },
     "execution_count": 124,
     "metadata": {},
     "output_type": "execute_result"
    }
   ],
   "source": [
    "import pandas as pd\n",
    "import numpy as np\n",
    "nba = pd.read_csv(\"nba_players.csv\")\n",
    "nba.head()"
   ]
  },
  {
   "cell_type": "markdown",
   "metadata": {},
   "source": [
    "Now we have a grasp of what our data look like. Next let's extract out information of point guards from the data set. Point guards are specified as PG in the position(POS) column. \n",
    "\n",
    "We also want points per game and assist turnover ration for each player. While our dataset doesn't come with Assist Turnover Ratio, we can easily calculate those using each player's assists per game(AST) and the turnovers per game(TOV) if we divide the AST column and TOV column. Let's create a new column called atr which represents Assist Turnover Ratio to store the ratios.\n",
    "\n",
    "A notice here is that we need to drop the players who have 0 turnovers. Not only did these players only play a few games, making it hard to understand their true abilities, but we also cannot divide by 0 when we calculate atr. Another thing to pay attention to is AST and TOV columns are string type, we may want to convert to numeric type first.  "
   ]
  },
  {
   "cell_type": "code",
   "execution_count": 125,
   "metadata": {
    "collapsed": false
   },
   "outputs": [
    {
     "name": "stderr",
     "output_type": "stream",
     "text": [
      "/Users/Suyang/anaconda/lib/python3.5/site-packages/pandas/core/generic.py:2387: SettingWithCopyWarning: \n",
      "A value is trying to be set on a copy of a slice from a DataFrame.\n",
      "Try using .loc[row_indexer,col_indexer] = value instead\n",
      "\n",
      "See the caveats in the documentation: http://pandas.pydata.org/pandas-docs/stable/indexing.html#indexing-view-versus-copy\n",
      "  self[name] = value\n"
     ]
    },
    {
     "data": {
      "text/html": [
       "<div>\n",
       "<table border=\"1\" class=\"dataframe\">\n",
       "  <thead>\n",
       "    <tr style=\"text-align: right;\">\n",
       "      <th></th>\n",
       "      <th>PTS</th>\n",
       "      <th>atr</th>\n",
       "    </tr>\n",
       "  </thead>\n",
       "  <tbody>\n",
       "    <tr>\n",
       "      <th>35</th>\n",
       "      <td>13.1</td>\n",
       "      <td>2.444444</td>\n",
       "    </tr>\n",
       "    <tr>\n",
       "      <th>36</th>\n",
       "      <td>2.1</td>\n",
       "      <td>1.111111</td>\n",
       "    </tr>\n",
       "    <tr>\n",
       "      <th>37</th>\n",
       "      <td>14.9</td>\n",
       "      <td>2.631579</td>\n",
       "    </tr>\n",
       "    <tr>\n",
       "      <th>42</th>\n",
       "      <td>7.5</td>\n",
       "      <td>1.600000</td>\n",
       "    </tr>\n",
       "    <tr>\n",
       "      <th>43</th>\n",
       "      <td>8.4</td>\n",
       "      <td>2.375000</td>\n",
       "    </tr>\n",
       "  </tbody>\n",
       "</table>\n",
       "</div>"
      ],
      "text/plain": [
       "     PTS       atr\n",
       "35  13.1  2.444444\n",
       "36   2.1  1.111111\n",
       "37  14.9  2.631579\n",
       "42   7.5  1.600000\n",
       "43   8.4  2.375000"
      ]
     },
     "execution_count": 125,
     "metadata": {},
     "output_type": "execute_result"
    }
   ],
   "source": [
    "point_guards = nba[nba['Pos'] == 'PG']\n",
    "\n",
    "point_guards.AST = point_guards.AST.astype(float)\n",
    "point_guards.TOV = point_guards.TOV.astype(float)\n",
    "point_guards.PTS = point_guards.PTS.astype(float)\n",
    "\n",
    "point_guards = point_guards[point_guards['TOV'] != 0]\n",
    "point_guards['atr'] = point_guards['AST'] / point_guards['TOV']\n",
    "\n",
    "point_guards[['PTS','atr']].head()"
   ]
  },
  {
   "cell_type": "markdown",
   "metadata": {},
   "source": [
    "In the next step, we are going to visualize the point guards. We will use matplotlib to create a scatter plot with Points Per Game (PTS) on the X axis and Assist Turnover Ratio (atr) on the Y axis."
   ]
  },
  {
   "cell_type": "code",
   "execution_count": 126,
   "metadata": {
    "collapsed": false
   },
   "outputs": [
    {
     "data": {
      "text/plain": [
       "<matplotlib.text.Text at 0x10ae13b38>"
      ]
     },
     "execution_count": 126,
     "metadata": {},
     "output_type": "execute_result"
    },
    {
     "data": {
      "image/png": "[encoded data removed]",
      "text/plain": [
       "<matplotlib.figure.Figure at 0x10ad49748>"
      ]
     },
     "metadata": {},
     "output_type": "display_data"
    }
   ],
   "source": [
    "%matplotlib inline\n",
    "\n",
    "import matplotlib\n",
    "import matplotlib.pyplot as plt\n",
    "\n",
    "plt.scatter(point_guards['PTS'], point_guards['atr'], c='r')\n",
    "plt.title('Point Guards')\n",
    "plt.xlabel('Points Per Game', fontsize=13)\n",
    "plt.ylabel('Assist Turnover Ratio', fontsize=13)"
   ]
  },
  {
   "cell_type": "markdown",
   "metadata": {},
   "source": [
    "It may be hard to tell how many regions or clusters that the point guards fall into at first glance(with a few outliers of course!). We can use a technique called clustering to segment all of the point guards into groups of alike players. We know that supervised machine learning techniques work well when we have a clear metric we want to optimize for and lots of pre-labelled data, here, we need to instead use unsupervised machine learning techniques to explore the structure within a data set that doesn't have a clear value to optimize.\n",
    "\n",
    "K-Means Clustering is a popular centroid-based clustering algorithm that we will use. The centroid represent the arithmetic mean of all of the data points in that cluster. The K in K-Means refers to the number of clusters we want to segment our data into. We can pick the k that makes the most sense for our use case. We'll set k to 5 since we want K-Means to segment our data into 5 clusters."
   ]
  },
  {
   "cell_type": "code",
   "execution_count": 127,
   "metadata": {
    "collapsed": false
   },
   "outputs": [
    {
     "name": "stdout",
     "output_type": "stream",
     "text": [
      "[ 35 508 284 457  52]\n",
      "      Rk          Player Pos Age   Tm   G  GS    MP   FG   FGA    ...     ORB  \\\n",
      "35    25   D.J. Augustin  PG  26  TOT  71   9  27.3  4.2  10.1    ...     0.2   \n",
      "508  389  Ramon Sessions  PG  27  TOT  83  19  26.7  4.0   9.3    ...     0.5   \n",
      "284  205     George Hill  PG  27  IND  76  76  32.0  3.6   8.1    ...     0.7   \n",
      "457  346     Tony Parker  PG  31  SAS  68  68  29.4  6.7  13.4    ...     0.3   \n",
      "52    39  Jerryd Bayless  PG  25  MEM  31   5  21.0  2.9   7.7    ...     0.3   \n",
      "\n",
      "     DRB  TRB  AST  STL  BLK  TOV   PF   PTS       atr  \n",
      "35   1.6  1.8  4.4  0.7  0.0  1.8  2.1  13.1  2.444444  \n",
      "508  2.0  2.4  4.1  0.6  0.1  1.8  1.1  12.3  2.277778  \n",
      "284  3.0  3.7  3.5  1.0  0.3  1.2  2.1  10.3  2.916667  \n",
      "457  2.0  2.3  5.7  0.5  0.1  2.2  1.3  16.7  2.590909  \n",
      "52   1.6  1.9  2.1  0.6  0.2  0.7  2.3   8.1  3.000000  \n",
      "\n",
      "[5 rows x 31 columns]\n"
     ]
    }
   ],
   "source": [
    "# Create the centroids\n",
    "num_clusters = 5\n",
    "random_initial_points = np.random.choice(point_guards.index, size=num_clusters)\n",
    "centroids = point_guards.ix[random_initial_points]\n",
    "# Use numpy's random function to generate a list of indices, length: num_clusters\n",
    "# Use the random indices to create the centroids(A new dataframe)\n",
    "\n",
    "print(random_initial_points)\n",
    "print(centroids)"
   ]
  },
  {
   "cell_type": "markdown",
   "metadata": {},
   "source": [
    "Visualize Centroids\n",
    "Let's plot the centroids, in addition to the point_guards, so we can see where the randomly chosen centroids started out."
   ]
  },
  {
   "cell_type": "code",
   "execution_count": 128,
   "metadata": {
    "collapsed": false
   },
   "outputs": [
    {
     "data": {
      "text/plain": [
       "<matplotlib.text.Text at 0x10aced198>"
      ]
     },
     "execution_count": 128,
     "metadata": {},
     "output_type": "execute_result"
    },
    {
     "data": {
      "image/png": "[encoded data removed]",
      "text/plain": [
       "<matplotlib.figure.Figure at 0x10ae29240>"
      ]
     },
     "metadata": {},
     "output_type": "display_data"
    }
   ],
   "source": [
    "%matplotlib inline\n",
    "\n",
    "plt.scatter(point_guards['PTS'], point_guards['atr'], c='yellow')\n",
    "plt.scatter(centroids['PTS'], centroids['atr'], c='black')\n",
    "plt.title(\"Centroids\")\n",
    "plt.xlabel('Points Per Game', fontsize=13)\n",
    "plt.ylabel('Assist Turnover Ratio', fontsize=13)"
   ]
  },
  {
   "cell_type": "markdown",
   "metadata": {},
   "source": [
    "Setup K-Means is an iterative algorithm that switches between recalculating the centroid of each cluster and the players that belong to that cluster.\n",
    "\n",
    "Step 1 (Assign Points to Clusters) For each player, calculate the Euclidean distance between that player's coordinates, or values for atr & pts, and each of the centroids' coordinates. Assign the player to the cluster whose centroid is the closest to, or has the lowest Euclidean distance to, the player's values.\n",
    "\n",
    "Step 2 (Update New Centroids of the Clusters) For each cluster, compute the new centroid by calculating the arithmetic mean of all of the points (players) in that cluster. We calculate the arithmetic mean by taking the average of all of the X values (atr) and the average of all of the Y values (pts) of the points in that cluster.\n",
    "\n",
    "Iterate Repeat steps 1 & 2 until the clusters are no longer moving and have converged.\n",
    "\n",
    "Before we can assign players to clusters, we need a way to compare the pts and atr values of the players with each cluster's centroids. Let's create the function calculate_distance, which takes in 2 lists (the player's values for pts and atr and the centroid's values for pts and atr)."
   ]
  },
  {
   "cell_type": "code",
   "execution_count": 129,
   "metadata": {
    "collapsed": true
   },
   "outputs": [],
   "source": [
    "# Step 1 - Assign points to cluster\n",
    "# Step 1.1 - Create a function which can calculate distance of two points\n",
    "import math\n",
    "\n",
    "def calculate_distance(centroids, player_values):\n",
    "    square_distance = 0\n",
    "    for x in range(len(centroids)):\n",
    "        square_distance += (centroids[x] - player_values[x]) ** 2\n",
    "    return math.sqrt(square_distance)"
   ]
  },
  {
   "cell_type": "markdown",
   "metadata": {},
   "source": [
    "Since we know how to calculate the distance between each player and the centroids, now we need a way to assign data points to clusters based on Euclidean distance. \n",
    "\n",
    "Let's create a function that can be applied to every row in the data set (using the apply function in pandas). For each player, we want to calculate the distances to each cluster's centroid using euclidean_distance. Once we know the distances, we can determine which centroid is the closest (has the lowest distance) and return that centroid's cluster_id.\n",
    "\n",
    "And then we'll create a new column, cluster_id, that contains the row-wise results of assign_to_cluster."
   ]
  },
  {
   "cell_type": "code",
   "execution_count": 130,
   "metadata": {
    "collapsed": false
   },
   "outputs": [
    {
     "name": "stdout",
     "output_type": "stream",
     "text": [
      "{0: [13.1, 2.4444444444444446], 1: [12.3, 2.2777777777777777], 2: [10.3, 2.916666666666667], 3: [16.7, 2.590909090909091], 4: [8.1, 3.0000000000000004]}\n"
     ]
    }
   ],
   "source": [
    "# Let's first represent the centroids with a dictionary. Therefore, we can use key as unique identifier, \n",
    "# to refer to each cluster's centroid.\n",
    "def centroids_to_dict(centroids):\n",
    "    dictionary = dict()\n",
    "    counter = 0\n",
    "    \n",
    "    for index, row in centroids.iterrows():\n",
    "        coordinates = [row['PTS'], row['atr']]\n",
    "        dictionary[counter] = coordinates\n",
    "        counter += 1\n",
    "    return dictionary\n",
    "\n",
    "centroids_dict = centroids_to_dict(centroids)\n",
    "\n",
    "print(centroids_dict)"
   ]
  },
  {
   "cell_type": "code",
   "execution_count": 131,
   "metadata": {
    "collapsed": false
   },
   "outputs": [],
   "source": [
    "# Let's assign data points to clusters based on Euclidean distance\n",
    "def assign_to_cluster(row):\n",
    "    closest_cluster = -1\n",
    "    closest_distance = -1\n",
    "    df_row = [row['PTS'], row['atr']]\n",
    "    \n",
    "    for cluster_id, centroid in centroids_dict.items():\n",
    "        distance = calculate_distance(centroid, df_row)\n",
    "        if closest_distance == -1:\n",
    "            closest_distance = distance\n",
    "            closest_cluster = cluster_id\n",
    "        elif distance < closest_distance:\n",
    "            closest_distance = distance\n",
    "            closest_cluster = cluster_id\n",
    "    return closest_cluster\n",
    "\n",
    "point_guards['cluster_id'] = point_guards.apply(assign_to_cluster, axis=1)\n",
    "# print(point_guards['cluster_id'])"
   ]
  },
  {
   "cell_type": "code",
   "execution_count": 132,
   "metadata": {
    "collapsed": false
   },
   "outputs": [
    {
     "data": {
      "image/png": "[encoded data removed]",
      "text/plain": [
       "<matplotlib.figure.Figure at 0x10ada8ba8>"
      ]
     },
     "metadata": {},
     "output_type": "display_data"
    }
   ],
   "source": [
    "# Visualizing clusters\n",
    "def visualize_clusters(df, num_clusters):\n",
    "    colors = ['red', 'black', 'green', 'yellow', 'c', 'm', 'k']\n",
    "\n",
    "    for n in range(num_clusters): # n = 0,1,2,3,4\n",
    "        clustered_df = df[df['cluster_id'] == n]\n",
    "        plt.scatter(clustered_df['PTS'], clustered_df['atr'], c=colors[n])\n",
    "        plt.xlabel('Points Per Game', fontsize=13)\n",
    "        plt.ylabel('Assist Turnover Ratio', fontsize=13)\n",
    "\n",
    "visualize_clusters(point_guards, 5)"
   ]
  },
  {
   "cell_type": "markdown",
   "metadata": {},
   "source": [
    "Next Step: recalculate the centroids for each cluster\n",
    "Finish the function, recalculate_centroids, that takes in point_guards, uses each cluster_id\n",
    "(from 0 to num_clusters - 1) to pull out all of the players in each cluster, calculates the \n",
    "new arithmetic mean, and adds the cluster_id and the new arithmetic mean to new_centroids_dict, the final dictionary to be returned."
   ]
  },
  {
   "cell_type": "code",
   "execution_count": 134,
   "metadata": {
    "collapsed": false
   },
   "outputs": [
    {
     "name": "stdout",
     "output_type": "stream",
     "text": [
      "{0: [13.662499999999998, 1.9932022922194295], 1: [11.983333333333333, 2.3735802612656833], 2: [9.988888888888889, 2.549204080207206], 3: [18.238095238095237, 2.390764043501321], 4: [4.735849056603773, 2.1812538710875353]}\n"
     ]
    }
   ],
   "source": [
    "def recalculate_centroids(df):\n",
    "    new_centroids_dict = dict()\n",
    "    for n in range(num_clusters):\n",
    "        cluster_df = df[df['cluster_id'] == n]\n",
    "        new_centroid_coordinate = [np.mean(cluster_df['PTS']), np.mean(cluster_df['atr'])]\n",
    "        new_centroids_dict[n] = new_centroid_coordinate\n",
    "    return new_centroids_dict\n",
    "\n",
    "centroids_dict = recalculate_centroids(point_guards)\n",
    "print(centroids_dict)\n",
    "# print(point_guards['cluster_id'])"
   ]
  },
  {
   "cell_type": "code",
   "execution_count": null,
   "metadata": {
    "collapsed": true
   },
   "outputs": [],
   "source": []
  },
  {
   "cell_type": "code",
   "execution_count": null,
   "metadata": {
    "collapsed": true
   },
   "outputs": [],
   "source": []
  },
  {
   "cell_type": "code",
   "execution_count": null,
   "metadata": {
    "collapsed": true
   },
   "outputs": [],
   "source": []
  }
 ],
 "metadata": {
  "kernelspec": {
   "display_name": "Python 3",
   "language": "python",
   "name": "python3"
  },
  "language_info": {
   "codemirror_mode": {
    "name": "ipython",
    "version": 3
   },
   "file_extension": ".py",
   "mimetype": "text/x-python",
   "name": "python",
   "nbconvert_exporter": "python",
   "pygments_lexer": "ipython3",
   "version": "3.5.1"
  }
 },
 "nbformat": 4,
 "nbformat_minor": 0
}
